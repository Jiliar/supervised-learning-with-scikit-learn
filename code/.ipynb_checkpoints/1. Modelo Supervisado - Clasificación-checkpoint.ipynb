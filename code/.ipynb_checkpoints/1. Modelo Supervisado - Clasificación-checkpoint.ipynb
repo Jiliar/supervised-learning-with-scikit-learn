{
 "cells": [
  {
   "cell_type": "markdown",
   "id": "4ecda73c-7fed-4f04-ac20-2df6bab16f93",
   "metadata": {},
   "source": [
    "## Introducción a Machine Learning"
   ]
  },
  {
   "cell_type": "markdown",
   "id": "9ff69e37-acc3-4832-b366-cadec669998d",
   "metadata": {},
   "source": [
    "Hay dos tipos de aprendizaje supervisado: clasificación y regresión. La clasificación binaria se utiliza para predecir una variable objetivo que solo tiene dos etiquetas, normalmente representadas numéricamente con un cero o un uno."
   ]
  },
  {
   "cell_type": "markdown",
   "id": "6d87113f-8a7a-44ed-b811-6dc77424600d",
   "metadata": {},
   "source": [
    "## Modelo Supervisado - Clasificación"
   ]
  },
  {
   "cell_type": "markdown",
   "id": "1c0759cb-4c05-4f74-9b86-ff7098d87265",
   "metadata": {},
   "source": [
    "#### Sckit-learn Syntax\n",
    "Flujo de trabajo repetible para utilizar modelos de aprendizaje supervisado:"
   ]
  },
  {
   "cell_type": "markdown",
   "id": "432cc154-d512-4bf6-a543-73eab867fa37",
   "metadata": {},
   "source": [
    "```python\n",
    "from sklearn.module import Model #Importación de modelo para aprendizaje automatico.\n",
    "model = Model() #instanciación del modelo \n",
    "model.fit(X, y) #Se ajusta el modelo a los datos. X = Valores de las caracteristicas, y = Valores objetivos\n",
    "predictions = model.predit(X_new) #Se crea la predicción con nuevas observaciones [X_new]\n",
    "print(predictions) #Impresion de predicciones\n",
    "```"
   ]
  },
  {
   "cell_type": "markdown",
   "id": "e2ce6e18-f035-4969-b036-31efa317789e",
   "metadata": {},
   "source": [
    "#### Clasificación de etiquetas de datos no vistos\n",
    "\n",
    "1. Construir un modelo\n",
    "2. El modelo aprende de los datos etiquetados que le pasamos\n",
    "3. Pasar datos no etiquetados al modelo como entrada\n",
    "4. El modelo predice las etiquetas de los datos no vistos"
   ]
  },
  {
   "cell_type": "markdown",
   "id": "5c6f7ede-3a8e-4ca9-82fe-2eb98e66582c",
   "metadata": {},
   "source": [
    "### K-nearest Neighbors"
   ]
  },
  {
   "cell_type": "markdown",
   "id": "e79067f8-aa90-4215-8032-338ad053990f",
   "metadata": {},
   "source": [
    "Predecir la etiqueta de un punto de datos:\n",
    "- Observando los k puntos de datos etiquetados más cercanos.\n",
    "- Tomando una votación mayoritaria."
   ]
  },
  {
   "cell_type": "markdown",
   "id": "5d26fd7c-fe18-47ad-8fb8-481e66ac9e13",
   "metadata": {},
   "source": [
    "#### Ejemplo: "
   ]
  },
  {
   "cell_type": "markdown",
   "id": "f61e0297-e6d3-4d52-bf4c-6f9cec8c761c",
   "metadata": {},
   "source": [
    "¿Como se clasifica la observación negra?"
   ]
  },
  {
   "cell_type": "markdown",
   "id": "a45a0536-4f70-4b58-9f2f-e982d74dadb6",
   "metadata": {},
   "source": [
    "<img src=\"images/imagen1.png\" width=\"40%\">"
   ]
  },
  {
   "cell_type": "markdown",
   "id": "933b2d90-1292-46bc-8bd7-5a8d7385825b",
   "metadata": {},
   "source": [
    "##### Respuesta\n",
    "Si k = 3 se clasificaria como roja, porque 2 de las tres observaciones mas cercanas es igual a roja."
   ]
  },
  {
   "cell_type": "markdown",
   "id": "1b252e8c-21b0-4f60-8828-94d74e53d4c4",
   "metadata": {},
   "source": [
    "#### Scikit-learn"
   ]
  },
  {
   "cell_type": "code",
   "execution_count": 10,
   "id": "29108052-e5b7-47ac-84f6-1d030841ab96",
   "metadata": {},
   "outputs": [
    {
     "name": "stdout",
     "output_type": "stream",
     "text": [
      "(3333, 2) (3333,)\n",
      "(3, 2)\n",
      "Predictions: [1 0 0]\n"
     ]
    }
   ],
   "source": [
    "import pandas as pd\n",
    "import numpy as np\n",
    "from sklearn.neighbors import KNeighborsClassifier\n",
    "\n",
    "churn_df = pd.read_csv(\"../data/telecom_churn_clean.csv\")\n",
    "\n",
    "X = churn_df[[\"total_day_charge\", \"total_eve_charge\"]].values\n",
    "y = churn_df[\"churn\"].values\n",
    "print(X.shape, y.shape)\n",
    "\n",
    "knn = KNeighborsClassifier(n_neighbors = 15)\n",
    "knn.fit(X, y)\n",
    "X_new = np.array([ [56.8 , 17.5], [24.4 , 24.1], [50.1, 10.9] ]) #3 Observaciones y 2 caracteristicas.\n",
    "print(X_new.shape)\n",
    "predictions = knn.predict(X_new)\n",
    "print('Predictions: {}'.format(predictions))"
   ]
  },
  {
   "cell_type": "markdown",
   "id": "a9100108-5744-4188-ad9f-59f7eadd39ab",
   "metadata": {},
   "source": [
    "## Medición del rendimiento del modelo\n",
    "En la clasificación, la precisión es una métrica de uso común.\n",
    "\n",
    "**Precisión:** predicciones correctas / observaciones totales\n",
    "\n",
    "- Se pudo calcular la precisión de los datos utilizados para ajustar el clasificador.\n",
    "- NO indica capacidad de generalización."
   ]
  },
  {
   "cell_type": "markdown",
   "id": "35915050-9338-4248-be08-4bf24a809ac0",
   "metadata": {},
   "source": [
    "<img src=\"images/imagen2.png\" width=\"80%\">"
   ]
  },
  {
   "cell_type": "code",
   "execution_count": 11,
   "id": "a6650371-c0a3-4167-90a1-1996e9c5bee8",
   "metadata": {},
   "outputs": [
    {
     "name": "stdout",
     "output_type": "stream",
     "text": [
      "0.872\n"
     ]
    }
   ],
   "source": [
    "from sklearn.model_selection import train_test_split\n",
    "X_train, X_test, y_train, y_test = train_test_split(X, y, test_size=0.3, random_state=21, stratify=y)\n",
    "\"\"\"\n",
    "test_size: 30% del total de los datos para pruebas.\n",
    "random_state: establece semilla para conjunto de numeros aleatorios, para división de datos.\n",
    "stratify: estratificación para asegurarse que la división refleja la proporcion de etiquetas en los datos.\n",
    "\n",
    "train_test_split: retorna 4 arreglos: los datos de entrenamiento, los datos de prueba, las etiquetas de entrenamiento, las etiquetas de pruebas.\n",
    "\"\"\"\n",
    "knn = KNeighborsClassifier(n_neighbors=6)\n",
    "knn.fit(X_train, y_train)\n",
    "print(knn.score(X_test, y_test)) # Para conocer la precisión se usa el metodo score"
   ]
  },
  {
   "cell_type": "markdown",
   "id": "f1480ca9-2228-4a35-abc3-3440216daceb",
   "metadata": {},
   "source": [
    "<img src=\"images/imagen3.png\" width=\"70%\">"
   ]
  },
  {
   "cell_type": "markdown",
   "id": "19ad180f-d66f-49cf-94ac-c35f38ff980f",
   "metadata": {},
   "source": [
    "En la gráfica podemos ver **límites de decisiones** a medida que `k` cambia; los **límites de decisión** son umbrales que sirven para determinar qué etiqueta asigna un modelo a una observación.\n",
    "Por el comportamiento se puede visualizar que es un modelo mas simple, ya que tienen menos capacidad para detectar relaciones en el conjunto de datos (infrajuste).\n",
    "Los modelos complejos suelen ser sensibles al ruido de los datos de entrenamiento, en lugar de reflejar tendencias generales, esto se conoce como sobreajuste."
   ]
  },
  {
   "cell_type": "markdown",
   "id": "39e385d0-df4a-4b4f-b4a7-bfaf7f2b4554",
   "metadata": {},
   "source": [
    "- Un valor k mayor = modelo menos complejo = puede causar subajuste.\n",
    "> Larger k = less complex model = can cause underfitting.\n",
    "  \n",
    "- Un valor k menor = modelo más complejo = puede causar sobreajuste.\n",
    "> Smaller k = more complex model = can lead to overfitting."
   ]
  },
  {
   "cell_type": "markdown",
   "id": "b8b61d3c-983c-4d04-958a-db254f6eb622",
   "metadata": {},
   "source": [
    "#### Complejidad del modelo y sobreajuste/subajuste"
   ]
  },
  {
   "cell_type": "code",
   "execution_count": 12,
   "id": "f72482b6-46ea-4641-96e3-03dc3899e93a",
   "metadata": {},
   "outputs": [],
   "source": [
    "train_accuracies = {}\n",
    "test_accuracies = {}\n",
    "neighbors = np.arange(1, 26)\n",
    "for neighbor in neighbors:\n",
    "    knn = KNeighborsClassifier(n_neighbors=neighbor)\n",
    "    knn.fit(X_train, y_train)\n",
    "    train_accuracies [neighbor] = knn.score(X_train, y_train)\n",
    "    test_accuracies [neighbor] = knn.score(X_test, y_test)"
   ]
  },
  {
   "cell_type": "markdown",
   "id": "c45a792e-cb0d-4b91-9076-ab7d6bd71bd3",
   "metadata": {},
   "source": [
    "#### Graficando los resultados"
   ]
  },
  {
   "cell_type": "code",
   "execution_count": 15,
   "id": "d2ca1886-3b6d-4a66-9b94-72c60e74691b",
   "metadata": {},
   "outputs": [
    {
     "data": {
      "image/png": "[encoded data removed]",
      "text/plain": [
       "<Figure size 800x600 with 1 Axes>"
      ]
     },
     "metadata": {},
     "output_type": "display_data"
    }
   ],
   "source": [
    "import matplotlib.pyplot as plt\n",
    "\n",
    "plt.figure(figsize=(8, 6))\n",
    "plt.title(\"KNN: Varying Number of Neighbors\")\n",
    "\n",
    "plt.plot(neighbors, train_accuracies.values(), label=\"Training Accuracy\")\n",
    "plt.plot(neighbors, test_accuracies.values(), label=\"Testing Accuracy\")\n",
    "\n",
    "plt.legend()\n",
    "plt.xlabel(\"Number of Neighbors\")\n",
    "plt.ylabel(\"Accuracy\")\n",
    "plt.show()"
   ]
  },
  {
   "cell_type": "code",
   "execution_count": null,
   "id": "95862ccb-c01e-44d6-a9bb-df9af0382d00",
   "metadata": {},
   "outputs": [],
   "source": []
  }
 ],
 "metadata": {
  "kernelspec": {
   "display_name": "Python 3 (ipykernel)",
   "language": "python",
   "name": "python3"
  },
  "language_info": {
   "codemirror_mode": {
    "name": "ipython",
    "version": 3
   },
   "file_extension": ".py",
   "mimetype": "text/x-python",
   "name": "python",
   "nbconvert_exporter": "python",
   "pygments_lexer": "ipython3",
   "version": "3.12.11"
  }
 },
 "nbformat": 4,
 "nbformat_minor": 5
}
