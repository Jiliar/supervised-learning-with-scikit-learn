{
 "cells": [
  {
   "cell_type": "markdown",
   "id": "4533ebcc-9e07-4d51-9ca9-74a6a04f745a",
   "metadata": {},
   "source": [
    "## Regularización en la Regresión"
   ]
  },
  {
   "cell_type": "markdown",
   "id": "b311f754-8de0-4732-a69f-f247fb10f0c4",
   "metadata": {},
   "source": [
    "Es una técnica utilizada para evitar el sobreajuste.\n",
    "\n",
    "**¿Por qué regularizar?**\n",
    "\n",
    "- La regresión lineal minimiza una función de pérdida.\n",
    "- Elige un coeficiente, a, para cada variable característica, más b.\n",
    "- Los coeficientes altos pueden provocar sobreajuste.\n",
    "- Regularización: Penalizar los coeficientes altos."
   ]
  },
  {
   "cell_type": "markdown",
   "id": "e0403d32-21b0-4d1f-b2af-d0ce47ecec6d",
   "metadata": {},
   "source": [
    "## Ridge Regression\n",
    "\n",
    "La regresión Ridge realiza la regularización calculando los valores al cuadrado de los parámetros del modelo multiplicados por alfa y añadiéndolos a la función de pérdida.\n",
    "\n",
    "- **Loss function** = OLS loss function + regularization term\n",
    "\n",
    "La función de pérdida de Ridge incluye una penalización sobre los coeficientes:\n",
    "\n",
    "$$\n",
    "\\text{Loss} = \\text{RSS} + \\alpha \\sum_{i=1}^{n} a_i^2\n",
    "$$\n",
    "\n",
    "Donde:\n",
    "- RSS es el **error cuadrático residual (Residual Sum of Squares)**.\n",
    "- α es el **parámetro de regularización** que controla la penalización.\n",
    "- a_i son los coeficientes del modelo.\n",
    "\n",
    "#### Caracteristicas\n",
    "\n",
    "- Ridge penaliza coeficientes positivos o negativos grandes.\n",
    "- α: parámetro que debemos elegir.\n",
    "- Seleccionar α es similar a seleccionar k en KNN.\n",
    "- Hiperparámetro: variable utilizada para optimizar los parámetros del modelo.\n",
    "- α controla la complejidad del modelo.\n",
    "- α = 0 = MCO (puede provocar sobreajuste).\n",
    "- α muy alta: puede provocar subajuste."
   ]
  },
  {
   "cell_type": "code",
   "execution_count": 11,
   "id": "f7ff97ad-dee0-44c0-b426-beb701893551",
   "metadata": {},
   "outputs": [
    {
     "name": "stdout",
     "output_type": "stream",
     "text": [
      "   pregnancies  glucose  triceps  insulin   bmi  age  diabetes\n",
      "0            0    106.7       29       72  26.2   24         0\n",
      "1            8    142.3       33      233  38.9   62         1\n",
      "2           12    140.2       31      123  34.1   65         1\n",
      "3           12    130.8       38      293  31.2   30         0\n",
      "4            0     91.3       31      188  21.4   51         0\n"
     ]
    }
   ],
   "source": [
    "import pandas as pd\n",
    "from sklearn.linear_model import Ridge\n",
    "from sklearn.linear_model import Lasso\n",
    "from sklearn.model_selection import train_test_split\n",
    "import matplotlib.pyplot as plt\n",
    "\n",
    "diabetes_df = pd.read_csv(\"../data/diabetes.csv\")\n",
    "print(diabetes_df.head())\n",
    "\n",
    "X = diabetes_df.drop(\"glucose\", axis=1).values\n",
    "y = diabetes_df[\"glucose\"].values"
   ]
  },
  {
   "cell_type": "code",
   "execution_count": 6,
   "id": "fbcea42f-1111-4dbd-aa0b-810eaaf93481",
   "metadata": {},
   "outputs": [
    {
     "name": "stdout",
     "output_type": "stream",
     "text": [
      "[0.8900973392198993, 0.8900919477722626, 0.8897882762302913, 0.8836071569904724, 0.872575175807339]\n"
     ]
    }
   ],
   "source": [
    "X_train, X_test, y_train, y_test = train_test_split(X, y, test_size = 0.3, random_state = 42)\n",
    "\n",
    "scores = []\n",
    "for alpha in [0.1, 1.0, 10.0, 100.0, 1000.0]:\n",
    "    ridge = Ridge(alpha=alpha)\n",
    "    ridge.fit(X_train, y_train)\n",
    "    y_pred = ridge.predict(X_test)\n",
    "    scores.append(ridge.score(X_test, y_test))\n",
    "print(scores)"
   ]
  },
  {
   "cell_type": "markdown",
   "id": "eccfc4f9-d4aa-4885-8eb8-72b3efb71ad9",
   "metadata": {},
   "source": [
    "Según los resultados el rendimiento empeora cada vez que aumenta el valor de α"
   ]
  },
  {
   "cell_type": "markdown",
   "id": "d3072312-a9c4-4e36-83be-85cf900b1de9",
   "metadata": {},
   "source": [
    "## Lasso Regression"
   ]
  },
  {
   "cell_type": "markdown",
   "id": "b20d89f1-2765-472b-b349-e62c217b4cab",
   "metadata": {},
   "source": [
    "- **Loss function** = OLS loss function + regularization term\n",
    "\n",
    "La función de pérdida de Lasso incluye una penalización basada en el valor absoluto de los coeficientes:\n",
    "\n",
    "$$\n",
    "\\text{Loss} = \\text{RSS} + \\alpha \\sum_{i=1}^{n} |a_i|\n",
    "$$\n",
    "\n",
    "Donde:\n",
    "- RSS es el **error cuadrático residual (Residual Sum of Squares)**.\n",
    "- α es el **parámetro de regularización**.\n",
    "- a_i es el valor absoluto de cada coeficiente del modelo.\n",
    "\n",
    "Lasso tiende a **reducir algunos coeficientes a cero**, lo que favorece la **selección de variables**."
   ]
  },
  {
   "cell_type": "code",
   "execution_count": 7,
   "id": "7fc51bff-8b87-4492-8920-7a6cb02c947b",
   "metadata": {},
   "outputs": [
    {
     "name": "stdout",
     "output_type": "stream",
     "text": [
      "[0.8900959269124845, 0.8779793701194666, 0.8690067781154229, 0.8587951001275013, 0.7884636659853445]\n"
     ]
    }
   ],
   "source": [
    "X_train, X_test, y_train, y_test = train_test_split(X, y, test_size = 0.3, random_state = 42)\n",
    "\n",
    "scores = []\n",
    "for alpha in [0.01, 1.0, 10.0, 20.0, 50.0]:\n",
    "    lasso = Lasso(alpha=alpha)\n",
    "    lasso.fit(X_train, y_train)\n",
    "    y_pred = lasso.predict(X_test)\n",
    "    scores.append(lasso.score (X_test, y_test))\n",
    "print(scores)"
   ]
  },
  {
   "cell_type": "markdown",
   "id": "f6a48cb7-415b-4629-9027-80fa1200ed15",
   "metadata": {},
   "source": [
    "Según los resultados el rendimiento ellos van tendiendo a cero dado los valores de α."
   ]
  },
  {
   "cell_type": "markdown",
   "id": "7b535a07-64f9-4c87-af18-dd9fdce810be",
   "metadata": {},
   "source": [
    "### Regresión Lasso para la selección de características\n",
    "\n",
    "- Lasso puede seleccionar características importantes de un conjunto de datos.\n",
    "- Reduce a cero los coeficientes de las características menos importantes.\n",
    "- Lasso selecciona las características que no se reducen a cero."
   ]
  },
  {
   "cell_type": "code",
   "execution_count": 8,
   "id": "d7aa9cc4-6cca-4236-9b42-220e0861da6f",
   "metadata": {},
   "outputs": [
    {
     "name": "stdout",
     "output_type": "stream",
     "text": [
      "   pregnancies  glucose  triceps  insulin   bmi  age  diabetes\n",
      "0            0    106.7       29       72  26.2   24         0\n",
      "1            8    142.3       33      233  38.9   62         1\n",
      "2           12    140.2       31      123  34.1   65         1\n",
      "3           12    130.8       38      293  31.2   30         0\n",
      "4            0     91.3       31      188  21.4   51         0\n"
     ]
    }
   ],
   "source": [
    "diabetes_df = pd.read_csv(\"../data/diabetes.csv\")\n",
    "print(diabetes_df.head())"
   ]
  },
  {
   "cell_type": "code",
   "execution_count": 12,
   "id": "486057c7-37ab-4b59-bf6e-f21fc7940dd4",
   "metadata": {},
   "outputs": [
    {
     "data": {
      "image/png": "[encoded data removed]",
      "text/plain": [
       "<Figure size 640x480 with 1 Axes>"
      ]
     },
     "metadata": {},
     "output_type": "display_data"
    }
   ],
   "source": [
    "X = diabetes_df.drop(\"glucose\", axis=1).values\n",
    "y = diabetes_df [\"glucose\"].values\n",
    "names = diabetes_df.drop(\"glucose\", axis=1).columns\n",
    "lasso = Lasso(alpha=0.1)\n",
    "lasso_coef = lasso.fit(X, y).coef_\n",
    "plt.bar(names, lasso_coef)\n",
    "plt.xticks(rotation=45)\n",
    "plt.show()"
   ]
  },
  {
   "cell_type": "markdown",
   "id": "ca282416-f531-4434-8545-48e2ab003f4b",
   "metadata": {},
   "source": [
    "El predictor más importante para la variable objetivo \"niveles de glucosa en sangre\" es la variable diabetes."
   ]
  },
  {
   "cell_type": "code",
   "execution_count": null,
   "id": "65ce9f03-3a6e-448c-a713-321ac401e12f",
   "metadata": {},
   "outputs": [],
   "source": []
  }
 ],
 "metadata": {
  "kernelspec": {
   "display_name": "Python 3 (ipykernel)",
   "language": "python",
   "name": "python3"
  },
  "language_info": {
   "codemirror_mode": {
    "name": "ipython",
    "version": 3
   },
   "file_extension": ".py",
   "mimetype": "text/x-python",
   "name": "python",
   "nbconvert_exporter": "python",
   "pygments_lexer": "ipython3",
   "version": "3.12.11"
  }
 },
 "nbformat": 4,
 "nbformat_minor": 5
}
