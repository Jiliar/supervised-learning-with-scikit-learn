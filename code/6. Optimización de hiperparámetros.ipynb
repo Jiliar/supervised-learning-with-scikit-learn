{
 "cells": [
  {
   "cell_type": "markdown",
   "id": "b823606a-3366-4101-929d-8a455f6a92d7",
   "metadata": {},
   "source": [
    "### Optimización de hiperparámetros"
   ]
  },
  {
   "cell_type": "markdown",
   "id": "a7f2b526-fff4-4599-a2c4-ca28a0ed7018",
   "metadata": {},
   "source": [
    "- Regresión de Ridge/Lasso: Elección de alfa\n",
    "- KNN: Elección de n_vecinos\n",
    "- Hiperparámetros: Parámetros que especificamos antes de ajustar el modelo, como alfa y n_vecinos"
   ]
  },
  {
   "cell_type": "markdown",
   "id": "b0a51062-23b0-4c15-88fa-f02de5aa256d",
   "metadata": {},
   "source": [
    "### Elección de los hiperparámetros correctos\n",
    "\n",
    "1. Probar varios valores de hiperparámetros diferentes.\n",
    "2. Ajustar todo por separado.\n",
    "3. Observar su rendimiento.\n",
    "4. Elegir los valores con mejor rendimiento.\n",
    "5. Se retiene el conjunto de pruebas para la evaluación final.\n",
    "\n",
    "Es fundamental utilizar la validación cruzada para evitar el sobreajuste al conjunto de prueba.\n",
    "\n",
    "Aún se pueden dividir los datos y realizar la validación cruzada en el conjunto de entrenamiento."
   ]
  },
  {
   "cell_type": "markdown",
   "id": "8e58dbf5-c14b-44e6-b25b-deeac0060e49",
   "metadata": {},
   "source": [
    "### Validación cruzada de búsqueda en cuadrícula"
   ]
  },
  {
   "cell_type": "markdown",
   "id": "07807f84-c0fb-45f1-b4f9-d120a18d0f19",
   "metadata": {},
   "source": [
    "Sirve para encontrar los mejores hiperparámetros de un modelo de forma sistemática y robusta."
   ]
  },
  {
   "cell_type": "markdown",
   "id": "a9b2be74-9507-4a2f-ac04-12f450dcfc70",
   "metadata": {},
   "source": [
    "Es una técnica que\n",
    "\n",
    "- Define un espacio de búsqueda de combinaciones de hiperparámetros (ej: C, gamma, max_depth, n_neighbors, etc.).\n",
    "- Evalúa cada combinación usando validación cruzada (por ejemplo, K-Fold CV).\n",
    "- Selecciona la mejor combinación basada en la métrica de rendimiento (accuracy, f1, etc.)."
   ]
  },
  {
   "cell_type": "markdown",
   "id": "ae7d4e32-d763-4457-9f83-36fcf6891027",
   "metadata": {},
   "source": [
    "### ¿Para qué sirve?\n",
    "\n",
    "- **Optimizar el modelo:** elige los hiperparámetros que mejor generalizan a datos nuevos.\n",
    "- **Evitar overfitting/underfitting:** al probar varias combinaciones, se encuentra un buen balance.\n",
    "- **Evaluar de forma consistente:** cada combinación se valida en múltiples particiones de los datos."
   ]
  },
  {
   "cell_type": "markdown",
   "id": "08e03a23-17a0-4333-98d0-1559eb9c848b",
   "metadata": {},
   "source": [
    "### GridSearchCV"
   ]
  },
  {
   "cell_type": "markdown",
   "id": "0807a516-a489-4fda-aff3-e647d1d7ef96",
   "metadata": {},
   "source": [
    "`GridSearchCV` es una herramienta de scikit-learn que permite encontrar automáticamente los mejores hiperparámetros para un modelo de Machine Learning utilizando una búsqueda en cuadrícula combinada con validación cruzada."
   ]
  },
  {
   "cell_type": "markdown",
   "id": "9410b644-8e79-4a4b-8343-87bc933d3627",
   "metadata": {},
   "source": [
    "```python\n",
    "# Importa GridSearchCV para búsqueda en cuadrícula y KFold para validación cruzada\n",
    "from sklearn.model_selection import GridSearchCV, KFold\n",
    "\n",
    "# Crea una validación cruzada K-Fold con 5 particiones, con barajado y semilla fija para reproducibilidad\n",
    "kf = KFold(n_splits=5, shuffle=True, random_state=42)\n",
    "\n",
    "# Define el espacio de búsqueda de hiperparámetros:\n",
    "# - \"alpha\": valores de regularización (aunque np.arange(0.0001, 1, 10) solo genera [0.0001], revisar paso)\n",
    "# - \"solver\": métodos numéricos disponibles para resolver la regresión Ridge\n",
    "param_grid = {\n",
    "    \"alpha\": np.arange(0.0001, 1, 10),  # Genera un solo valor: [0.0001] debido al paso de 10\n",
    "    \"solver\": [\"sag\", \"lsqr\"]\n",
    "}\n",
    "\n",
    "# Instancia el modelo Ridge (regresión lineal con regularización L2)\n",
    "ridge = Ridge()\n",
    "\n",
    "# Configura la búsqueda en cuadrícula usando el modelo, el grid de parámetros y la validación cruzada definida\n",
    "ridge_cv = GridSearchCV(ridge, param_grid, cv=kf)\n",
    "\n",
    "# Entrena (ajusta) el modelo con validación cruzada sobre los datos de entrenamiento\n",
    "ridge_cv.fit(X_train, y_train)\n",
    "\n",
    "# Imprime los mejores hiperparámetros encontrados y el mejor puntaje de validación\n",
    "print(ridge_cv.best_params_, ridge_cv.best_score_)\n",
    "```"
   ]
  },
  {
   "cell_type": "markdown",
   "id": "d3068876-adc4-42d4-8546-61576ac0c282",
   "metadata": {},
   "source": [
    "#### Limitaciones y un enfoque alternativo\n",
    "\n",
    "- Validación cruzada triple, 1 hiperparámetro, 10 valores totales = 30 ajustes\n",
    "- Validación cruzada de 10, 3 hiperparámetros, 30 valores totales = 900 ajustes"
   ]
  },
  {
   "cell_type": "markdown",
   "id": "efd0be9e-cc06-4510-b54c-305e839ad823",
   "metadata": {},
   "source": [
    "### RandomizeSearchCV"
   ]
  },
  {
   "cell_type": "markdown",
   "id": "d097aa93-2abd-4d32-b12c-db619d306422",
   "metadata": {},
   "source": [
    "`RandomizedSearchCV` es una técnica de búsqueda de hiperparámetros aleatoria utilizada en aprendizaje automático para encontrar la mejor combinación de hiperparámetros de un modelo."
   ]
  },
  {
   "cell_type": "markdown",
   "id": "e3b52e34-d895-41ca-a453-8d1fcf488016",
   "metadata": {},
   "source": [
    "```python\n",
    "from sklearn.model_selection import RandomizeSearchCV, KFold\n",
    "\n",
    "# Crea una validación cruzada K-Fold con 5 particiones, con barajado y semilla fija para reproducibilidad\n",
    "kf = KFold(n_splits=5, shuffle=True, random_state=42)\n",
    "\n",
    "# Define el espacio de búsqueda de hiperparámetros:\n",
    "# - \"alpha\": valores de regularización (aunque np.arange(0.0001, 1, 10) solo genera [0.0001], revisar paso)\n",
    "# - \"solver\": métodos numéricos disponibles para resolver la regresión Ridge\n",
    "param_grid = {\n",
    "    \"alpha\": np.arange(0.0001, 1, 10),  # Genera un solo valor: [0.0001] debido al paso de 10\n",
    "    \"solver\": [\"sag\", \"lsqr\"]\n",
    "}\n",
    "\n",
    "# Instancia el modelo Ridge (regresión lineal con regularización L2)\n",
    "ridge = Ridge()\n",
    "\n",
    "# Configura la búsqueda en cuadrícula usando el modelo, el grid de parámetros y la validación cruzada definida\n",
    "ridge_cv = RandomizeSearchCV(ridge, param_grid, cv=kf, n_iter=2)\n",
    "\n",
    "# Entrena (ajusta) el modelo con validación cruzada sobre los datos de entrenamiento\n",
    "ridge_cv.fit(X_train, y_train)\n",
    "\n",
    "# Imprime los mejores hiperparámetros encontrados y el mejor puntaje de validación\n",
    "print(ridge_cv.score(X_test, y_test))"
   ]
  },
  {
   "cell_type": "code",
   "execution_count": null,
   "id": "a00db17b-597d-44c8-ab7e-a4636275485f",
   "metadata": {},
   "outputs": [],
   "source": []
  }
 ],
 "metadata": {
  "kernelspec": {
   "display_name": "Python 3 (ipykernel)",
   "language": "python",
   "name": "python3"
  },
  "language_info": {
   "codemirror_mode": {
    "name": "ipython",
    "version": 3
   },
   "file_extension": ".py",
   "mimetype": "text/x-python",
   "name": "python",
   "nbconvert_exporter": "python",
   "pygments_lexer": "ipython3",
   "version": "3.12.11"
  }
 },
 "nbformat": 4,
 "nbformat_minor": 5
}
