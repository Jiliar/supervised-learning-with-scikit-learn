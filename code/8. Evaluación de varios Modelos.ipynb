{
 "cells": [
  {
   "cell_type": "markdown",
   "id": "14e5c44e-9eef-4f69-82e1-c20497c558c6",
   "metadata": {},
   "source": [
    "### Diferentes modelos para diferentes problemas\n",
    "\n",
    "Algunos principios rectores:\n",
    "\n",
    "#### Tamaño del conjunto de datos\n",
    "- Menos características = modelo más simple, tiempo de entrenamiento más rápido\n",
    "- Algunos modelos requieren grandes cantidades de datos para un buen rendimiento\n",
    "\n",
    "#### Interpretabilidad\n",
    "- Algunos modelos son más fáciles de explicar, lo cual puede ser importante para las partes interesadas\n",
    "- La regresión lineal tiene una alta interpretabilidad, ya que podemos comprender los coeficientes\n",
    "\n",
    "#### Flexibilidad\n",
    "- Puede mejorar la precisión al hacer menos suposiciones sobre los datos\n",
    "- KNN es un modelo más flexible que no asume relaciones lineales"
   ]
  },
  {
   "cell_type": "markdown",
   "id": "1498a59a-57c5-49ef-bdf2-1701277ef604",
   "metadata": {},
   "source": [
    "### Todo está en las métricas\n",
    "\n",
    "#### Rendimiento del modelo de regresión:\n",
    "\n",
    "- RMSE\n",
    "- R cuadrado\n",
    "\n",
    "#### Rendimiento del modelo de clasificación:\n",
    "\n",
    "- Precisión\n",
    "- Matriz de confusión\n",
    "- Precisión, recall, puntuación F1\n",
    "- AUC ROC\n",
    "\n",
    "Entrene varios modelos y evalúe su rendimiento de forma inmediata"
   ]
  },
  {
   "cell_type": "markdown",
   "id": "f526a6d8-8966-47c9-8a10-835cb13a692a",
   "metadata": {},
   "source": [
    "### Nota sobre el escalado\n",
    "\n",
    "Modelos afectados por el escalado:\n",
    "\n",
    "- KNN\n",
    "- Regresión lineal (más Ridge, Lasso)\n",
    "- Regresión logística\n",
    "- Red neuronal artificial\n",
    "\n",
    "Es recomendable escalar los datos antes de evaluar los modelos."
   ]
  },
  {
   "cell_type": "code",
   "execution_count": 7,
   "id": "dc53293c-be6b-4eb3-8fa0-111df147d6ee",
   "metadata": {},
   "outputs": [
    {
     "name": "stderr",
     "output_type": "stream",
     "text": [
      "/var/folders/3b/5qvcm87x78317tw750jb2ykh0000gn/T/ipykernel_54626/4090332277.py:30: MatplotlibDeprecationWarning: The 'labels' parameter of boxplot() has been renamed 'tick_labels' since Matplotlib 3.9; support for the old name will be dropped in 3.11.\n",
      "  plt.boxplot(results, labels=models.keys())\n"
     ]
    },
    {
     "data": {
      "image/png": "[encoded data removed]",
      "text/plain": [
       "<Figure size 640x480 with 1 Axes>"
      ]
     },
     "metadata": {},
     "output_type": "display_data"
    }
   ],
   "source": [
    "import matplotlib.pyplot as plt\n",
    "from sklearn.preprocessing import StandardScaler\n",
    "from sklearn.model_selection import cross_val_score, KFold, train_test_split\n",
    "from sklearn.neighbors import KNeighborsClassifier\n",
    "from sklearn.linear_model import LogisticRegression\n",
    "from sklearn.tree import DecisionTreeClassifier\n",
    "import pandas as pd\n",
    "\n",
    "df = pd.read_csv('../data/music.csv')\n",
    "\n",
    "X = df.drop(\"genre\", axis=1).values\n",
    "y = df[\"genre\"].values\n",
    "X_train, X_test, y_train, y_test = train_test_split(X, y, random_state=42)\n",
    "\n",
    "scaler = StandardScaler()\n",
    "X_train_scaled = scaler.fit_transform(X_train)\n",
    "X_test_scaled = scaler.transform(X_test)\n",
    "\n",
    "models = {\n",
    "            \"Logistic Regression\": LogisticRegression(), \n",
    "            \"KNN\": KNeighborsClassifier(),\n",
    "            \"Decision Tree\": DecisionTreeClassifier()\n",
    "         }\n",
    "results = []\n",
    "for model in models.values():\n",
    "    kf = KFold(n_splits=6, random_state=42, shuffle=True)\n",
    "    cv_results = cross_val_score(model, X_train_scaled, y_train, cv=kf)\n",
    "    results.append(cv_results)\n",
    "    \n",
    "plt.boxplot(results, labels=models.keys())\n",
    "plt.show()"
   ]
  },
  {
   "cell_type": "markdown",
   "id": "07172b05-f6d5-4a82-a574-99f790513ba2",
   "metadata": {},
   "source": [
    "La línea naranja significa puntuación mediana y muestra que Decision Tree tiene mejor punruación mediana."
   ]
  },
  {
   "cell_type": "code",
   "execution_count": null,
   "id": "c09be23c-997f-4293-a88d-1a9e2b6cf330",
   "metadata": {},
   "outputs": [],
   "source": []
  }
 ],
 "metadata": {
  "kernelspec": {
   "display_name": "Python 3 (ipykernel)",
   "language": "python",
   "name": "python3"
  },
  "language_info": {
   "codemirror_mode": {
    "name": "ipython",
    "version": 3
   },
   "file_extension": ".py",
   "mimetype": "text/x-python",
   "name": "python",
   "nbconvert_exporter": "python",
   "pygments_lexer": "ipython3",
   "version": "3.12.11"
  }
 },
 "nbformat": 4,
 "nbformat_minor": 5
}
